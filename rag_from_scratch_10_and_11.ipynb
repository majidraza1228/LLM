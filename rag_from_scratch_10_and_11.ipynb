{
  "cells": [
    {
      "cell_type": "markdown",
      "metadata": {
        "id": "view-in-github",
        "colab_type": "text"
      },
      "source": [
        "<a href=\"https://colab.research.google.com/github/majidraza1228/LLM/blob/LLM_Tech_Class/rag_from_scratch_10_and_11.ipynb\" target=\"_parent\"><img src=\"https://colab.research.google.com/assets/colab-badge.svg\" alt=\"Open In Colab\"/></a>"
      ]
    },
    {
      "cell_type": "markdown",
      "id": "d4ffa253-e427-4663-bc0b-9b1fcce508e6",
      "metadata": {
        "id": "d4ffa253-e427-4663-bc0b-9b1fcce508e6"
      },
      "source": [
        "# Rag From Scratch: Routing\n",
        "\n",
        "![image.png](attachment:c02ab9b5-38f9-451a-b202-62b54ab9c87a.png)\n",
        "\n",
        "## Enviornment\n",
        "\n",
        "`(1) Packages`"
      ]
    },
    {
      "cell_type": "code",
      "execution_count": null,
      "id": "9bc509da-52b2-49fc-bc45-e5fd75ff5fed",
      "metadata": {
        "id": "9bc509da-52b2-49fc-bc45-e5fd75ff5fed"
      },
      "outputs": [],
      "source": [
        "! pip install langchain_community tiktoken langchain-openai langchainhub chromadb langchain youtube-transcript-api pytube"
      ]
    },
    {
      "cell_type": "markdown",
      "id": "823ab5e8-a314-446e-9213-5f11cfd67555",
      "metadata": {
        "id": "823ab5e8-a314-446e-9213-5f11cfd67555"
      },
      "source": [
        "`(2) LangSmith`\n",
        "\n",
        "https://docs.smith.langchain.com/"
      ]
    },
    {
      "cell_type": "code",
      "execution_count": null,
      "id": "3bc82800-5498-40be-86db-e1f6df8c86da",
      "metadata": {
        "id": "3bc82800-5498-40be-86db-e1f6df8c86da"
      },
      "outputs": [],
      "source": [
        "import os\n",
        "os.environ['LANGCHAIN_TRACING_V2'] = 'true'\n",
        "os.environ['LANGCHAIN_ENDPOINT'] = 'https://api.smith.langchain.com'\n",
        "os.environ['LANGCHAIN_API_KEY'] = <your-api-key>"
      ]
    },
    {
      "cell_type": "markdown",
      "id": "9acfd3be-d9d3-42f6-a13d-b936bb8cd6f4",
      "metadata": {
        "id": "9acfd3be-d9d3-42f6-a13d-b936bb8cd6f4"
      },
      "source": [
        "`(3) API Keys`"
      ]
    },
    {
      "cell_type": "code",
      "execution_count": null,
      "id": "78e8ecbd-7ba1-4a2d-8ad5-4ce59e164d23",
      "metadata": {
        "id": "78e8ecbd-7ba1-4a2d-8ad5-4ce59e164d23"
      },
      "outputs": [],
      "source": [
        "os.environ['OPENAI_API_KEY'] = <your-api-key>"
      ]
    },
    {
      "cell_type": "markdown",
      "id": "45fd9558-c53f-4a6c-80f0-c31b3bfd55de",
      "metadata": {
        "id": "45fd9558-c53f-4a6c-80f0-c31b3bfd55de"
      },
      "source": [
        "## Part 10: Logical and Semantic routing\n",
        "\n",
        "Use function-calling for classification.\n",
        "\n",
        "Flow:\n",
        "\n",
        "![Screenshot 2024-03-15 at 3.29.30 PM.png](attachment:b6699c4f-6188-4e0e-8ba4-21582dbca9ef.png)\n",
        "\n",
        "Docs:\n",
        "\n",
        "https://python.langchain.com/docs/use_cases/query_analysis/techniques/routing#routing-to-multiple-indexes"
      ]
    },
    {
      "cell_type": "code",
      "execution_count": null,
      "id": "04c2cf60-d636-4992-a021-1236f7688999",
      "metadata": {
        "id": "04c2cf60-d636-4992-a021-1236f7688999",
        "outputId": "613a3192-b93e-4a48-f3ec-0d6165e00e89"
      },
      "outputs": [
        {
          "name": "stderr",
          "output_type": "stream",
          "text": [
            "/Users/rlm/miniforge3/envs/llama2/lib/python3.11/site-packages/langchain_core/_api/beta_decorator.py:86: LangChainBetaWarning: The function `with_structured_output` is in beta. It is actively being worked on, so the API may change.\n",
            "  warn_beta(\n"
          ]
        }
      ],
      "source": [
        "from typing import Literal\n",
        "\n",
        "from langchain_core.prompts import ChatPromptTemplate\n",
        "from langchain_core.pydantic_v1 import BaseModel, Field\n",
        "from langchain_openai import ChatOpenAI\n",
        "\n",
        "# Data model\n",
        "class RouteQuery(BaseModel):\n",
        "    \"\"\"Route a user query to the most relevant datasource.\"\"\"\n",
        "\n",
        "    datasource: Literal[\"python_docs\", \"js_docs\", \"golang_docs\"] = Field(\n",
        "        ...,\n",
        "        description=\"Given a user question choose which datasource would be most relevant for answering their question\",\n",
        "    )\n",
        "\n",
        "# LLM with function call\n",
        "llm = ChatOpenAI(model=\"gpt-3.5-turbo-0125\", temperature=0)\n",
        "structured_llm = llm.with_structured_output(RouteQuery)\n",
        "\n",
        "# Prompt\n",
        "system = \"\"\"You are an expert at routing a user question to the appropriate data source.\n",
        "\n",
        "Based on the programming language the question is referring to, route it to the relevant data source.\"\"\"\n",
        "\n",
        "prompt = ChatPromptTemplate.from_messages(\n",
        "    [\n",
        "        (\"system\", system),\n",
        "        (\"human\", \"{question}\"),\n",
        "    ]\n",
        ")\n",
        "\n",
        "# Define router\n",
        "router = prompt | structured_llm"
      ]
    },
    {
      "cell_type": "markdown",
      "id": "1cb5aaa3-7826-471c-9203-390009cbb4d6",
      "metadata": {
        "id": "1cb5aaa3-7826-471c-9203-390009cbb4d6"
      },
      "source": [
        "Note: we used function calling to produce structured output.\n",
        "\n",
        "![Screenshot 2024-03-16 at 12.38.23 PM.png](attachment:1c7e2e9e-e85f-490f-9591-883a4070bdb2.png)"
      ]
    },
    {
      "cell_type": "code",
      "execution_count": null,
      "id": "cfc6febc-93df-49b4-9920-c93589ba021e",
      "metadata": {
        "id": "cfc6febc-93df-49b4-9920-c93589ba021e"
      },
      "outputs": [],
      "source": [
        "question = \"\"\"Why doesn't the following code work:\n",
        "\n",
        "from langchain_core.prompts import ChatPromptTemplate\n",
        "\n",
        "prompt = ChatPromptTemplate.from_messages([\"human\", \"speak in {language}\"])\n",
        "prompt.invoke(\"french\")\n",
        "\"\"\"\n",
        "\n",
        "result = router.invoke({\"question\": question})"
      ]
    },
    {
      "cell_type": "code",
      "execution_count": null,
      "id": "277536df-0904-4d99-92bb-652621afbdec",
      "metadata": {
        "id": "277536df-0904-4d99-92bb-652621afbdec",
        "outputId": "783e7216-5d27-4985-a565-a65b99b62d4e"
      },
      "outputs": [
        {
          "data": {
            "text/plain": [
              "RouteQuery(datasource='python_docs')"
            ]
          },
          "execution_count": 3,
          "metadata": {},
          "output_type": "execute_result"
        }
      ],
      "source": [
        "result"
      ]
    },
    {
      "cell_type": "code",
      "execution_count": null,
      "id": "636a43ae-50f3-43a1-a1b7-93266ea13bcd",
      "metadata": {
        "id": "636a43ae-50f3-43a1-a1b7-93266ea13bcd",
        "outputId": "e5b18092-a2fb-4c5d-a242-9156725482f7"
      },
      "outputs": [
        {
          "data": {
            "text/plain": [
              "'python_docs'"
            ]
          },
          "execution_count": 4,
          "metadata": {},
          "output_type": "execute_result"
        }
      ],
      "source": [
        "result.datasource"
      ]
    },
    {
      "cell_type": "markdown",
      "id": "ba569c12-ba1d-4486-a5be-bc8c31a8448c",
      "metadata": {
        "id": "ba569c12-ba1d-4486-a5be-bc8c31a8448c"
      },
      "source": [
        "Once we have this, it is trivial to define a branch that uses `result.datasource`\n",
        "\n",
        "https://python.langchain.com/docs/expression_language/how_to/routing"
      ]
    },
    {
      "cell_type": "code",
      "execution_count": null,
      "id": "01f15722-35c6-4456-ad1b-06463233db25",
      "metadata": {
        "id": "01f15722-35c6-4456-ad1b-06463233db25"
      },
      "outputs": [],
      "source": [
        "def choose_route(result):\n",
        "    if \"python_docs\" in result.datasource.lower():\n",
        "        ### Logic here\n",
        "        return \"chain for python_docs\"\n",
        "    elif \"js_docs\" in result.datasource.lower():\n",
        "        ### Logic here\n",
        "        return \"chain for js_docs\"\n",
        "    else:\n",
        "        ### Logic here\n",
        "        return \"golang_docs\"\n",
        "\n",
        "from langchain_core.runnables import RunnableLambda\n",
        "\n",
        "full_chain = router | RunnableLambda(choose_route)"
      ]
    },
    {
      "cell_type": "code",
      "execution_count": null,
      "id": "6af07b77-0537-4635-87ec-ad8f59d34e9b",
      "metadata": {
        "id": "6af07b77-0537-4635-87ec-ad8f59d34e9b",
        "outputId": "ea827ecd-8741-418c-ca3b-5d32283d7287"
      },
      "outputs": [
        {
          "data": {
            "text/plain": [
              "'chain for python_docs'"
            ]
          },
          "execution_count": 40,
          "metadata": {},
          "output_type": "execute_result"
        }
      ],
      "source": [
        "full_chain.invoke({\"question\": question})"
      ]
    },
    {
      "cell_type": "markdown",
      "id": "0afc28c6-6bb6-4869-8c4e-e81dd28c69fd",
      "metadata": {
        "id": "0afc28c6-6bb6-4869-8c4e-e81dd28c69fd"
      },
      "source": [
        "Trace:\n",
        "\n",
        "https://smith.langchain.com/public/c2ca61b4-3810-45d0-a156-3d6a73e9ee2a/r"
      ]
    },
    {
      "cell_type": "markdown",
      "id": "cb1db843-95f4-4abd-8d4c-4a41f0910949",
      "metadata": {
        "id": "cb1db843-95f4-4abd-8d4c-4a41f0910949"
      },
      "source": [
        "### Semantic routing\n",
        "\n",
        "Flow:\n",
        "\n",
        "![Screenshot 2024-03-15 at 3.30.08 PM.png](attachment:77626ada-cabe-4ecb-a8eb-22992883c5dc.png)\n",
        "\n",
        "Docs:\n",
        "\n",
        "https://python.langchain.com/docs/expression_language/cookbook/embedding_router"
      ]
    },
    {
      "cell_type": "code",
      "execution_count": null,
      "id": "53cbfa72-c35a-4d1d-aa6d-08a570ab2170",
      "metadata": {
        "id": "53cbfa72-c35a-4d1d-aa6d-08a570ab2170",
        "outputId": "a159b960-6fb7-41d6-ea1d-be130f997658"
      },
      "outputs": [
        {
          "name": "stdout",
          "output_type": "stream",
          "text": [
            "Using PHYSICS\n",
            "A black hole is a region in space where the gravitational pull is so strong that nothing, not even light, can escape from it. It is formed when a massive star collapses in on itself. The boundary surrounding a black hole is called the event horizon. Beyond the event horizon, the gravitational pull is so intense that even time and space are distorted. Black holes are some of the most mysterious and fascinating objects in the universe.\n"
          ]
        }
      ],
      "source": [
        "from langchain.utils.math import cosine_similarity\n",
        "from langchain_core.output_parsers import StrOutputParser\n",
        "from langchain_core.prompts import PromptTemplate\n",
        "from langchain_core.runnables import RunnableLambda, RunnablePassthrough\n",
        "from langchain_openai import ChatOpenAI, OpenAIEmbeddings\n",
        "\n",
        "# Two prompts\n",
        "physics_template = \"\"\"You are a very smart physics professor. \\\n",
        "You are great at answering questions about physics in a concise and easy to understand manner. \\\n",
        "When you don't know the answer to a question you admit that you don't know.\n",
        "\n",
        "Here is a question:\n",
        "{query}\"\"\"\n",
        "\n",
        "math_template = \"\"\"You are a very good mathematician. You are great at answering math questions. \\\n",
        "You are so good because you are able to break down hard problems into their component parts, \\\n",
        "answer the component parts, and then put them together to answer the broader question.\n",
        "\n",
        "Here is a question:\n",
        "{query}\"\"\"\n",
        "\n",
        "# Embed prompts\n",
        "embeddings = OpenAIEmbeddings()\n",
        "prompt_templates = [physics_template, math_template]\n",
        "prompt_embeddings = embeddings.embed_documents(prompt_templates)\n",
        "\n",
        "# Route question to prompt\n",
        "def prompt_router(input):\n",
        "    # Embed question\n",
        "    query_embedding = embeddings.embed_query(input[\"query\"])\n",
        "    # Compute similarity\n",
        "    similarity = cosine_similarity([query_embedding], prompt_embeddings)[0]\n",
        "    most_similar = prompt_templates[similarity.argmax()]\n",
        "    # Chosen prompt\n",
        "    print(\"Using MATH\" if most_similar == math_template else \"Using PHYSICS\")\n",
        "    return PromptTemplate.from_template(most_similar)\n",
        "\n",
        "\n",
        "chain = (\n",
        "    {\"query\": RunnablePassthrough()}\n",
        "    | RunnableLambda(prompt_router)\n",
        "    | ChatOpenAI()\n",
        "    | StrOutputParser()\n",
        ")\n",
        "\n",
        "print(chain.invoke(\"What's a black hole\"))"
      ]
    },
    {
      "cell_type": "markdown",
      "id": "e40eb434-97e2-497d-8241-914941594ffe",
      "metadata": {
        "id": "e40eb434-97e2-497d-8241-914941594ffe"
      },
      "source": [
        "Trace:\n",
        "\n",
        "https://smith.langchain.com/public/98c25405-2631-4de8-b12a-1891aded3359/r"
      ]
    },
    {
      "cell_type": "markdown",
      "id": "9e93d04a-513e-435b-8e09-8df5d4976690",
      "metadata": {
        "id": "9e93d04a-513e-435b-8e09-8df5d4976690"
      },
      "source": [
        "# Rag From Scratch: Query Construction\n",
        "\n",
        "![Screenshot 2024-03-25 at 8.20.28 PM.png](attachment:25eea077-2a6a-4787-ad6c-fa6ba8e0f9c1.png)\n",
        "\n",
        "For graph and SQL, see helpful resources:\n",
        "\n",
        "https://blog.langchain.dev/query-construction/\n",
        "\n",
        "https://blog.langchain.dev/enhancing-rag-based-applications-accuracy-by-constructing-and-leveraging-knowledge-graphs/"
      ]
    },
    {
      "cell_type": "markdown",
      "id": "e93d3516-3f77-4548-b55f-5db4d7c9fbbb",
      "metadata": {
        "id": "e93d3516-3f77-4548-b55f-5db4d7c9fbbb"
      },
      "source": [
        "## Part 11: Query structuring for metadata filters\n",
        "\n",
        "Flow:\n",
        "\n",
        "![Screenshot 2024-03-16 at 1.12.10 PM.png](attachment:3d933538-e73d-4922-8fe6-dbd2fc2cf2f5.png)\n",
        "\n",
        "Many vectorstores contain metadata fields.\n",
        "\n",
        "This makes it possible to filter for specific chunks based on metadata.\n",
        "\n",
        "Let's look at some example metadata we might see in a database of YouTube transcripts.\n",
        "\n",
        "Docs:\n",
        "\n",
        "https://python.langchain.com/docs/use_cases/query_analysis/techniques/structuring"
      ]
    },
    {
      "cell_type": "code",
      "execution_count": null,
      "id": "b22eb666-a6c2-4b3f-81dd-93ece81f035d",
      "metadata": {
        "id": "b22eb666-a6c2-4b3f-81dd-93ece81f035d",
        "outputId": "5ed2c7b7-d613-4831-bb0c-b4c79233c6b6"
      },
      "outputs": [
        {
          "data": {
            "text/plain": [
              "{'source': 'pbAd8O1Lvm4',\n",
              " 'title': 'Self-reflective RAG with LangGraph: Self-RAG and CRAG',\n",
              " 'description': 'Unknown',\n",
              " 'view_count': 11922,\n",
              " 'thumbnail_url': 'https://i.ytimg.com/vi/pbAd8O1Lvm4/hq720.jpg',\n",
              " 'publish_date': '2024-02-07 00:00:00',\n",
              " 'length': 1058,\n",
              " 'author': 'LangChain'}"
            ]
          },
          "execution_count": 11,
          "metadata": {},
          "output_type": "execute_result"
        }
      ],
      "source": [
        "from langchain_community.document_loaders import YoutubeLoader\n",
        "\n",
        "docs = YoutubeLoader.from_youtube_url(\n",
        "    \"https://www.youtube.com/watch?v=pbAd8O1Lvm4\", add_video_info=True\n",
        ").load()\n",
        "\n",
        "docs[0].metadata"
      ]
    },
    {
      "cell_type": "markdown",
      "id": "53767f87-f38d-4f16-9b3b-b83ce4657f03",
      "metadata": {
        "id": "53767f87-f38d-4f16-9b3b-b83ce4657f03"
      },
      "source": [
        "Let’s assume we’ve built an index that:\n",
        "\n",
        "1. Allows us to perform unstructured search over the `contents` and `title` of each document\n",
        "2. And to use range filtering on `view count`, `publication date`, and `length`.\n",
        "\n",
        "We want to convert natural langugae into structured search queries.\n",
        "\n",
        "We can define a schema for structured search queries."
      ]
    },
    {
      "cell_type": "code",
      "execution_count": null,
      "id": "7731745b-accc-4cf1-8291-e12d1aa46361",
      "metadata": {
        "id": "7731745b-accc-4cf1-8291-e12d1aa46361"
      },
      "outputs": [],
      "source": [
        "import datetime\n",
        "from typing import Literal, Optional, Tuple\n",
        "from langchain_core.pydantic_v1 import BaseModel, Field\n",
        "\n",
        "class TutorialSearch(BaseModel):\n",
        "    \"\"\"Search over a database of tutorial videos about a software library.\"\"\"\n",
        "\n",
        "    content_search: str = Field(\n",
        "        ...,\n",
        "        description=\"Similarity search query applied to video transcripts.\",\n",
        "    )\n",
        "    title_search: str = Field(\n",
        "        ...,\n",
        "        description=(\n",
        "            \"Alternate version of the content search query to apply to video titles. \"\n",
        "            \"Should be succinct and only include key words that could be in a video \"\n",
        "            \"title.\"\n",
        "        ),\n",
        "    )\n",
        "    min_view_count: Optional[int] = Field(\n",
        "        None,\n",
        "        description=\"Minimum view count filter, inclusive. Only use if explicitly specified.\",\n",
        "    )\n",
        "    max_view_count: Optional[int] = Field(\n",
        "        None,\n",
        "        description=\"Maximum view count filter, exclusive. Only use if explicitly specified.\",\n",
        "    )\n",
        "    earliest_publish_date: Optional[datetime.date] = Field(\n",
        "        None,\n",
        "        description=\"Earliest publish date filter, inclusive. Only use if explicitly specified.\",\n",
        "    )\n",
        "    latest_publish_date: Optional[datetime.date] = Field(\n",
        "        None,\n",
        "        description=\"Latest publish date filter, exclusive. Only use if explicitly specified.\",\n",
        "    )\n",
        "    min_length_sec: Optional[int] = Field(\n",
        "        None,\n",
        "        description=\"Minimum video length in seconds, inclusive. Only use if explicitly specified.\",\n",
        "    )\n",
        "    max_length_sec: Optional[int] = Field(\n",
        "        None,\n",
        "        description=\"Maximum video length in seconds, exclusive. Only use if explicitly specified.\",\n",
        "    )\n",
        "\n",
        "    def pretty_print(self) -> None:\n",
        "        for field in self.__fields__:\n",
        "            if getattr(self, field) is not None and getattr(self, field) != getattr(\n",
        "                self.__fields__[field], \"default\", None\n",
        "            ):\n",
        "                print(f\"{field}: {getattr(self, field)}\")"
      ]
    },
    {
      "cell_type": "markdown",
      "id": "6054bc98-0ae1-45e6-8f06-22c65ec47180",
      "metadata": {
        "id": "6054bc98-0ae1-45e6-8f06-22c65ec47180"
      },
      "source": [
        "Now, we prompt the LLM to produce queries."
      ]
    },
    {
      "cell_type": "code",
      "execution_count": null,
      "id": "f699d9e7-468e-4574-bdba-f4be4a5779de",
      "metadata": {
        "id": "f699d9e7-468e-4574-bdba-f4be4a5779de"
      },
      "outputs": [],
      "source": [
        "from langchain_core.prompts import ChatPromptTemplate\n",
        "from langchain_openai import ChatOpenAI\n",
        "\n",
        "system = \"\"\"You are an expert at converting user questions into database queries. \\\n",
        "You have access to a database of tutorial videos about a software library for building LLM-powered applications. \\\n",
        "Given a question, return a database query optimized to retrieve the most relevant results.\n",
        "\n",
        "If there are acronyms or words you are not familiar with, do not try to rephrase them.\"\"\"\n",
        "prompt = ChatPromptTemplate.from_messages(\n",
        "    [\n",
        "        (\"system\", system),\n",
        "        (\"human\", \"{question}\"),\n",
        "    ]\n",
        ")\n",
        "llm = ChatOpenAI(model=\"gpt-3.5-turbo-0125\", temperature=0)\n",
        "structured_llm = llm.with_structured_output(TutorialSearch)\n",
        "query_analyzer = prompt | structured_llm"
      ]
    },
    {
      "cell_type": "code",
      "execution_count": null,
      "id": "1b776858-a589-4fe5-a8a3-19530706075d",
      "metadata": {
        "id": "1b776858-a589-4fe5-a8a3-19530706075d",
        "outputId": "aa83f576-9fa7-4200-98f9-953e7541078f"
      },
      "outputs": [
        {
          "name": "stdout",
          "output_type": "stream",
          "text": [
            "content_search: rag from scratch\n",
            "title_search: rag from scratch\n"
          ]
        }
      ],
      "source": [
        "query_analyzer.invoke({\"question\": \"rag from scratch\"}).pretty_print()"
      ]
    },
    {
      "cell_type": "code",
      "execution_count": null,
      "id": "65bfad12-1985-433e-a980-eb8c9da53f72",
      "metadata": {
        "id": "65bfad12-1985-433e-a980-eb8c9da53f72",
        "outputId": "f4adfb07-d8fc-4e6c-8d29-edd831420e66"
      },
      "outputs": [
        {
          "name": "stdout",
          "output_type": "stream",
          "text": [
            "content_search: chat langchain\n",
            "title_search: 2023\n",
            "earliest_publish_date: 2023-01-01\n",
            "latest_publish_date: 2024-01-01\n"
          ]
        }
      ],
      "source": [
        "query_analyzer.invoke(\n",
        "    {\"question\": \"videos on chat langchain published in 2023\"}\n",
        ").pretty_print()"
      ]
    },
    {
      "cell_type": "code",
      "execution_count": null,
      "id": "99643372-01cc-49cc-a507-bebbed096247",
      "metadata": {
        "id": "99643372-01cc-49cc-a507-bebbed096247",
        "outputId": "10dab34e-1bdc-4600-b322-fcd7723e88d0"
      },
      "outputs": [
        {
          "name": "stdout",
          "output_type": "stream",
          "text": [
            "content_search: chat langchain\n",
            "title_search: chat langchain\n",
            "earliest_publish_date: 2024-01-01\n"
          ]
        }
      ],
      "source": [
        "query_analyzer.invoke(\n",
        "    {\"question\": \"videos that are focused on the topic of chat langchain that are published before 2024\"}\n",
        ").pretty_print()"
      ]
    },
    {
      "cell_type": "code",
      "execution_count": null,
      "id": "c26f2329-d091-4a47-995a-822e3f062ea1",
      "metadata": {
        "id": "c26f2329-d091-4a47-995a-822e3f062ea1",
        "outputId": "ed7561e0-5cc0-42b6-9e86-7c492e280776"
      },
      "outputs": [
        {
          "name": "stdout",
          "output_type": "stream",
          "text": [
            "content_search: multi-modal models agent\n",
            "title_search: multi-modal models agent\n",
            "max_length_sec: 300\n"
          ]
        }
      ],
      "source": [
        "query_analyzer.invoke(\n",
        "    {\n",
        "        \"question\": \"how to use multi-modal models in an agent, only videos under 5 minutes\"\n",
        "    }\n",
        ").pretty_print()"
      ]
    },
    {
      "cell_type": "markdown",
      "id": "90111ec1-784f-4b8c-bd91-6122edb7eb25",
      "metadata": {
        "id": "90111ec1-784f-4b8c-bd91-6122edb7eb25"
      },
      "source": [
        "To then connect this to various vectorstores, you can follow [here](https://python.langchain.com/docs/modules/data_connection/retrievers/self_query#constructing-from-scratch-with-lcel)."
      ]
    },
    {
      "cell_type": "code",
      "execution_count": null,
      "id": "d62d7164-7949-4369-80ae-b6bd1b2a08ea",
      "metadata": {
        "id": "d62d7164-7949-4369-80ae-b6bd1b2a08ea"
      },
      "outputs": [],
      "source": []
    }
  ],
  "metadata": {
    "kernelspec": {
      "display_name": "Python 3 (ipykernel)",
      "language": "python",
      "name": "python3"
    },
    "language_info": {
      "codemirror_mode": {
        "name": "ipython",
        "version": 3
      },
      "file_extension": ".py",
      "mimetype": "text/x-python",
      "name": "python",
      "nbconvert_exporter": "python",
      "pygments_lexer": "ipython3",
      "version": "3.11.8"
    },
    "colab": {
      "provenance": [],
      "include_colab_link": true
    }
  },
  "nbformat": 4,
  "nbformat_minor": 5
}